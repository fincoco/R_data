{
 "cells": [
  {
   "cell_type": "markdown",
   "metadata": {},
   "source": [
    "# Multiple Variables\n",
    "\n",
    "**c()함수**를 이용하여 `여러 값으로 구성된 변수` 생성 가능"
   ]
  },
  {
   "cell_type": "code",
   "execution_count": 1,
   "metadata": {},
   "outputs": [
    {
     "data": {
      "text/html": [
       "<ol class=list-inline>\n",
       "\t<li>1</li>\n",
       "\t<li>2</li>\n",
       "\t<li>3</li>\n",
       "\t<li>4</li>\n",
       "\t<li>5</li>\n",
       "</ol>\n"
      ],
      "text/latex": [
       "\\begin{enumerate*}\n",
       "\\item 1\n",
       "\\item 2\n",
       "\\item 3\n",
       "\\item 4\n",
       "\\item 5\n",
       "\\end{enumerate*}\n"
      ],
      "text/markdown": [
       "1. 1\n",
       "2. 2\n",
       "3. 3\n",
       "4. 4\n",
       "5. 5\n",
       "\n",
       "\n"
      ],
      "text/plain": [
       "[1] 1 2 3 4 5"
      ]
     },
     "metadata": {},
     "output_type": "display_data"
    },
    {
     "data": {
      "text/html": [
       "<ol class=list-inline>\n",
       "\t<li>1</li>\n",
       "\t<li>2</li>\n",
       "\t<li>3</li>\n",
       "\t<li>4</li>\n",
       "\t<li>5</li>\n",
       "</ol>\n"
      ],
      "text/latex": [
       "\\begin{enumerate*}\n",
       "\\item 1\n",
       "\\item 2\n",
       "\\item 3\n",
       "\\item 4\n",
       "\\item 5\n",
       "\\end{enumerate*}\n"
      ],
      "text/markdown": [
       "1. 1\n",
       "2. 2\n",
       "3. 3\n",
       "4. 4\n",
       "5. 5\n",
       "\n",
       "\n"
      ],
      "text/plain": [
       "[1] 1 2 3 4 5"
      ]
     },
     "metadata": {},
     "output_type": "display_data"
    },
    {
     "data": {
      "text/html": [
       "<ol class=list-inline>\n",
       "\t<li>1</li>\n",
       "\t<li>2</li>\n",
       "\t<li>3</li>\n",
       "\t<li>4</li>\n",
       "\t<li>5</li>\n",
       "</ol>\n"
      ],
      "text/latex": [
       "\\begin{enumerate*}\n",
       "\\item 1\n",
       "\\item 2\n",
       "\\item 3\n",
       "\\item 4\n",
       "\\item 5\n",
       "\\end{enumerate*}\n"
      ],
      "text/markdown": [
       "1. 1\n",
       "2. 2\n",
       "3. 3\n",
       "4. 4\n",
       "5. 5\n",
       "\n",
       "\n"
      ],
      "text/plain": [
       "[1] 1 2 3 4 5"
      ]
     },
     "metadata": {},
     "output_type": "display_data"
    },
    {
     "data": {
      "text/html": [
       "<ol class=list-inline>\n",
       "\t<li>1</li>\n",
       "\t<li>2</li>\n",
       "\t<li>3</li>\n",
       "\t<li>4</li>\n",
       "\t<li>5</li>\n",
       "</ol>\n"
      ],
      "text/latex": [
       "\\begin{enumerate*}\n",
       "\\item 1\n",
       "\\item 2\n",
       "\\item 3\n",
       "\\item 4\n",
       "\\item 5\n",
       "\\end{enumerate*}\n"
      ],
      "text/markdown": [
       "1. 1\n",
       "2. 2\n",
       "3. 3\n",
       "4. 4\n",
       "5. 5\n",
       "\n",
       "\n"
      ],
      "text/plain": [
       "[1] 1 2 3 4 5"
      ]
     },
     "metadata": {},
     "output_type": "display_data"
    },
    {
     "data": {
      "text/html": [
       "<ol class=list-inline>\n",
       "\t<li>1</li>\n",
       "\t<li>3</li>\n",
       "\t<li>5</li>\n",
       "\t<li>7</li>\n",
       "\t<li>9</li>\n",
       "</ol>\n"
      ],
      "text/latex": [
       "\\begin{enumerate*}\n",
       "\\item 1\n",
       "\\item 3\n",
       "\\item 5\n",
       "\\item 7\n",
       "\\item 9\n",
       "\\end{enumerate*}\n"
      ],
      "text/markdown": [
       "1. 1\n",
       "2. 3\n",
       "3. 5\n",
       "4. 7\n",
       "5. 9\n",
       "\n",
       "\n"
      ],
      "text/plain": [
       "[1] 1 3 5 7 9"
      ]
     },
     "metadata": {},
     "output_type": "display_data"
    }
   ],
   "source": [
    "var1 = c(1, 2, 3, 4, 5)\n",
    "var2 = c(1:5)\n",
    "var3 = (1:5)\n",
    "var4 = seq(1, 5)\n",
    "var5 = seq(1, 10, by=2)\n",
    "\n",
    "var1\n",
    "var2\n",
    "var3\n",
    "var4\n",
    "var5"
   ]
  },
  {
   "cell_type": "markdown",
   "metadata": {},
   "source": [
    "문자로 된 변수 생성은 따옴표 `\"`를 붙여야 하며 문자로 된 변수는 계산할 수 없음.  \n",
    "문자로 된 변수 합치는 함수 **paste()**, 구분자는 **collapse**로 지정"
   ]
  },
  {
   "cell_type": "code",
   "execution_count": 2,
   "metadata": {},
   "outputs": [
    {
     "data": {
      "text/html": [
       "<ol class=list-inline>\n",
       "\t<li>'hello!'</li>\n",
       "\t<li>'world'</li>\n",
       "\t<li>'is'</li>\n",
       "\t<li>'good'</li>\n",
       "</ol>\n"
      ],
      "text/latex": [
       "\\begin{enumerate*}\n",
       "\\item 'hello!'\n",
       "\\item 'world'\n",
       "\\item 'is'\n",
       "\\item 'good'\n",
       "\\end{enumerate*}\n"
      ],
      "text/markdown": [
       "1. 'hello!'\n",
       "2. 'world'\n",
       "3. 'is'\n",
       "4. 'good'\n",
       "\n",
       "\n"
      ],
      "text/plain": [
       "[1] \"hello!\" \"world\"  \"is\"     \"good\"  "
      ]
     },
     "metadata": {},
     "output_type": "display_data"
    },
    {
     "data": {
      "text/html": [
       "'hello!,world,is,good'"
      ],
      "text/latex": [
       "'hello!,world,is,good'"
      ],
      "text/markdown": [
       "'hello!,world,is,good'"
      ],
      "text/plain": [
       "[1] \"hello!,world,is,good\""
      ]
     },
     "metadata": {},
     "output_type": "display_data"
    }
   ],
   "source": [
    "str1 = \"hello\"\n",
    "str2 = c(\"hello!\", \"world\", \"is\", \"good\")\n",
    "str2\n",
    "\n",
    "paste(str2, collapse = \",\")"
   ]
  },
  {
   "cell_type": "markdown",
   "metadata": {},
   "source": [
    "패키지 설치는 **install.packages(\"패키지이름\")**  \n",
    "패키지 로드는 **library()**"
   ]
  },
  {
   "cell_type": "markdown",
   "metadata": {},
   "source": [
    "# Data Frame  \n",
    "열은 '컬럼(Column)' 또는 '변수(Variable)', 행은 'Row' 또는 'Case'  \n",
    "데이터 프레임 만들 때는 **data.frame()** 이용하여 변수를 쉼표로 나열  \n",
    "**달러 기호($)**를 통해 데이터 프레임 안의 변수 지정"
   ]
  },
  {
   "cell_type": "code",
   "execution_count": 5,
   "metadata": {},
   "outputs": [
    {
     "data": {
      "text/html": [
       "<table>\n",
       "<thead><tr><th scope=col>english</th><th scope=col>math</th><th scope=col>class</th></tr></thead>\n",
       "<tbody>\n",
       "\t<tr><td>10</td><td>20</td><td>1 </td></tr>\n",
       "\t<tr><td>20</td><td>50</td><td>2 </td></tr>\n",
       "\t<tr><td>30</td><td>60</td><td>3 </td></tr>\n",
       "\t<tr><td>40</td><td>30</td><td>1 </td></tr>\n",
       "\t<tr><td>50</td><td>80</td><td>2 </td></tr>\n",
       "</tbody>\n",
       "</table>\n"
      ],
      "text/latex": [
       "\\begin{tabular}{r|lll}\n",
       " english & math & class\\\\\n",
       "\\hline\n",
       "\t 10 & 20 & 1 \\\\\n",
       "\t 20 & 50 & 2 \\\\\n",
       "\t 30 & 60 & 3 \\\\\n",
       "\t 40 & 30 & 1 \\\\\n",
       "\t 50 & 80 & 2 \\\\\n",
       "\\end{tabular}\n"
      ],
      "text/markdown": [
       "\n",
       "| english | math | class |\n",
       "|---|---|---|\n",
       "| 10 | 20 | 1  |\n",
       "| 20 | 50 | 2  |\n",
       "| 30 | 60 | 3  |\n",
       "| 40 | 30 | 1  |\n",
       "| 50 | 80 | 2  |\n",
       "\n"
      ],
      "text/plain": [
       "  english math class\n",
       "1 10      20   1    \n",
       "2 20      50   2    \n",
       "3 30      60   3    \n",
       "4 40      30   1    \n",
       "5 50      80   2    "
      ]
     },
     "metadata": {},
     "output_type": "display_data"
    },
    {
     "data": {
      "text/html": [
       "<ol class=list-inline>\n",
       "\t<li>10</li>\n",
       "\t<li>20</li>\n",
       "\t<li>30</li>\n",
       "\t<li>40</li>\n",
       "\t<li>50</li>\n",
       "</ol>\n"
      ],
      "text/latex": [
       "\\begin{enumerate*}\n",
       "\\item 10\n",
       "\\item 20\n",
       "\\item 30\n",
       "\\item 40\n",
       "\\item 50\n",
       "\\end{enumerate*}\n"
      ],
      "text/markdown": [
       "1. 10\n",
       "2. 20\n",
       "3. 30\n",
       "4. 40\n",
       "5. 50\n",
       "\n",
       "\n"
      ],
      "text/plain": [
       "[1] 10 20 30 40 50"
      ]
     },
     "metadata": {},
     "output_type": "display_data"
    },
    {
     "data": {
      "text/html": [
       "<ol class=list-inline>\n",
       "\t<li>20</li>\n",
       "\t<li>50</li>\n",
       "\t<li>60</li>\n",
       "\t<li>30</li>\n",
       "\t<li>80</li>\n",
       "</ol>\n"
      ],
      "text/latex": [
       "\\begin{enumerate*}\n",
       "\\item 20\n",
       "\\item 50\n",
       "\\item 60\n",
       "\\item 30\n",
       "\\item 80\n",
       "\\end{enumerate*}\n"
      ],
      "text/markdown": [
       "1. 20\n",
       "2. 50\n",
       "3. 60\n",
       "4. 30\n",
       "5. 80\n",
       "\n",
       "\n"
      ],
      "text/plain": [
       "[1] 20 50 60 30 80"
      ]
     },
     "metadata": {},
     "output_type": "display_data"
    }
   ],
   "source": [
    "english = c(10, 20, 30, 40, 50)\n",
    "math = c(20, 50, 60, 30, 80)\n",
    "class = c(1, 2, 3, 1, 2)\n",
    "\n",
    "df_midterm = data.frame(english, math, class)\n",
    "df_midterm\n",
    "\n",
    "df_midterm$english\n",
    "df_midterm$math"
   ]
  },
  {
   "cell_type": "markdown",
   "metadata": {},
   "source": [
    "R에서 엑셀 파일 읽기 위해서는 패키지 설치 필요   \n",
    "**install.packages(\"readxl\")**  \n",
    "**library(readxl)**  \n",
    "첫 번째 행이 변수명이 아닐 때에는 파라미터 설정 **col_names = F**  \n",
    "시트가 여러 개 있다면 불러올 시트 지정 **sheet = 3**  \n",
    "> library(readxl)  \n",
    "> df_exam = read_excel(\"excel_exam.xlsx\")  \n",
    "> df_exam_novar = read_excel(\"excel_exam_novar.xlsx\", col_names = F)  \n",
    "\n",
    "---\n",
    "\n",
    "CSV파일은 내장된 함수 사용 **read.csv()**, 변수명이 없는 경우 **header = F** 파라미터 지정  \n",
    "문자가 들어있는 CSV파일은 **stringsAsFactors = F** 파라미터 설정  \n",
    "CSV파일 저장은 함수 사용 **write.csv()**  \n",
    "> df_csv_exam = read.csv(\"csv_exam.csv\")  \n",
    "> write.csv(df_midterm, file = \"df_midterm.csv\")  \n",
    "\n",
    "---\n",
    "\n",
    "데이터 프레임을 RData로 저장하기 위해서는 **save()** 함수 이용, rda 파일 로드는 **load()** \n",
    "> save(df_midterm, file = \"df_midterm.rda\")  \n",
    "> load(\"df_midterm.rda\")  "
   ]
  },
  {
   "cell_type": "code",
   "execution_count": null,
   "metadata": {},
   "outputs": [],
   "source": []
  }
 ],
 "metadata": {
  "kernelspec": {
   "display_name": "R",
   "language": "R",
   "name": "ir"
  },
  "language_info": {
   "codemirror_mode": "r",
   "file_extension": ".r",
   "mimetype": "text/x-r-source",
   "name": "R",
   "pygments_lexer": "r",
   "version": "3.6.1"
  }
 },
 "nbformat": 4,
 "nbformat_minor": 4
}
